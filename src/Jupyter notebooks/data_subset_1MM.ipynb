{
 "cells": [
  {
   "cell_type": "code",
   "execution_count": null,
   "id": "4d1488cd",
   "metadata": {},
   "outputs": [],
   "source": [
    "# read \"nytaxi2022.csv\", extract 1000000 rows of data alone from it\n",
    "\n",
    "import pandas as pd\n",
    "\n",
    "#df = pd.read_csv(\"../../data/nytaxi2022.csv\", nrows=1000000)\n",
    "df = pd.read_csv(\"../../data/nytaxi2022.csv\", nrows=20)\n",
    "# write to a new csv file\n",
    "df.to_csv(\"../../data/nytaxi2022_100rows.csv\", index=False)"
   ]
  }
 ],
 "metadata": {
  "kernelspec": {
   "display_name": ".venv",
   "language": "python",
   "name": "python3"
  },
  "language_info": {
   "codemirror_mode": {
    "name": "ipython",
    "version": 3
   },
   "file_extension": ".py",
   "mimetype": "text/x-python",
   "name": "python",
   "nbconvert_exporter": "python",
   "pygments_lexer": "ipython3",
   "version": "3.13.7"
  }
 },
 "nbformat": 4,
 "nbformat_minor": 5
}
