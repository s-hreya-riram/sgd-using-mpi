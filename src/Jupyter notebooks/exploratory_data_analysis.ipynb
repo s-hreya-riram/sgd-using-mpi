{
 "cells": [
  {
   "cell_type": "markdown",
   "id": "1ff48467",
   "metadata": {},
   "source": [
    "### Jupyter Notebook to clean up the nytaxi2022.csv dataset\n",
    "\n",
    "[This notebook is not for submission, only for personal use] \n",
    "The purpose of this notebook is to do basic exploratory data analysis to check for missing/invalid data prior to execution of Stochastic Gradient Descent using MPI.\n",
    "The description of the attributes from [Kaggle](https://www.kaggle.com/datasets/diishasiing/revenue-for-cab-drivers/data) is as follows:\n",
    "\n",
    "* VendorID: A unique identifier for the taxi vendor or service provider.\n",
    "* tpep_pickup_datetime: The date and time when the passenger was picked up.\n",
    "* tpep_dropoff_datetime: The date and time when the passenger was dropped off.\n",
    "* passenger_count: The number of passengers in the taxi.\n",
    "* trip_distance: The total distance of the trip in miles or kilometers.\n",
    "* RatecodeID: The rate code assigned to the trip, representing fare types.\n",
    "* store_and_fwd_flag: Indicates whether the trip data was stored locally and then forwarded later (Y/N).\n",
    "* PULocationID: The unique identifier for the pickup location (zone or area).\n",
    "* DOLocationID: The unique identifier for the drop-off location (zone or area).\n",
    "* payment_type: The method of payment used by the passenger (e.g., cash, card).\n",
    "* fare_amount: The base fare for the trip.\n",
    "* extra: Additional charges applied during the trip (e.g., night surcharge).\n",
    "* mta_tax: The tax imposed by the Metropolitan Transportation Authority.\n",
    "* tip_amount: The tip given to the driver, if applicable.\n",
    "* tolls_amount: The total amount of tolls charged during the trip.\n",
    "* improvement_surcharge: A surcharge imposed for the improvement of services.\n",
    "* total_amount: The total fare amount, including all charges and surcharges.\n",
    "* congestion_surcharge: An additional charge for trips taken during high traffic congestion times.\n"
   ]
  },
  {
   "cell_type": "markdown",
   "id": "e7b921a3",
   "metadata": {},
   "source": [
    "Below we import the file as a Pandas dataframe and get a snapshot of the first five rows of the dataset"
   ]
  },
  {
   "cell_type": "code",
   "execution_count": 1,
   "id": "a324400d",
   "metadata": {},
   "outputs": [
    {
     "name": "stderr",
     "output_type": "stream",
     "text": [
      "/var/folders/yk/c0cfqj715njfdnphhzw8m5p00000gn/T/ipykernel_31204/2038509739.py:4: DtypeWarning: Columns (6) have mixed types. Specify dtype option on import or set low_memory=False.\n",
      "  taxi_data = pd.read_csv('../../data/nytaxi2022.csv', header=0)\n"
     ]
    },
    {
     "data": {
      "text/html": [
       "<div>\n",
       "<style scoped>\n",
       "    .dataframe tbody tr th:only-of-type {\n",
       "        vertical-align: middle;\n",
       "    }\n",
       "\n",
       "    .dataframe tbody tr th {\n",
       "        vertical-align: top;\n",
       "    }\n",
       "\n",
       "    .dataframe thead th {\n",
       "        text-align: right;\n",
       "    }\n",
       "</style>\n",
       "<table border=\"1\" class=\"dataframe\">\n",
       "  <thead>\n",
       "    <tr style=\"text-align: right;\">\n",
       "      <th></th>\n",
       "      <th>VendorID</th>\n",
       "      <th>tpep_pickup_datetime</th>\n",
       "      <th>tpep_dropoff_datetime</th>\n",
       "      <th>passenger_count</th>\n",
       "      <th>trip_distance</th>\n",
       "      <th>RatecodeID</th>\n",
       "      <th>store_and_fwd_flag</th>\n",
       "      <th>PULocationID</th>\n",
       "      <th>DOLocationID</th>\n",
       "      <th>payment_type</th>\n",
       "      <th>fare_amount</th>\n",
       "      <th>extra</th>\n",
       "      <th>mta_tax</th>\n",
       "      <th>tip_amount</th>\n",
       "      <th>tolls_amount</th>\n",
       "      <th>improvement_surcharge</th>\n",
       "      <th>total_amount</th>\n",
       "      <th>congestion_surcharge</th>\n",
       "      <th>airport_fee</th>\n",
       "    </tr>\n",
       "  </thead>\n",
       "  <tbody>\n",
       "    <tr>\n",
       "      <th>0</th>\n",
       "      <td>1</td>\n",
       "      <td>01/01/2022 12:35:40 AM</td>\n",
       "      <td>01/01/2022 12:53:29 AM</td>\n",
       "      <td>2.0</td>\n",
       "      <td>3.80</td>\n",
       "      <td>1.0</td>\n",
       "      <td>N</td>\n",
       "      <td>142</td>\n",
       "      <td>236</td>\n",
       "      <td>1</td>\n",
       "      <td>14.5</td>\n",
       "      <td>3.0</td>\n",
       "      <td>0.5</td>\n",
       "      <td>3.65</td>\n",
       "      <td>0.0</td>\n",
       "      <td>0.3</td>\n",
       "      <td>21.95</td>\n",
       "      <td>2.5</td>\n",
       "      <td>0.0</td>\n",
       "    </tr>\n",
       "    <tr>\n",
       "      <th>1</th>\n",
       "      <td>1</td>\n",
       "      <td>01/01/2022 12:33:43 AM</td>\n",
       "      <td>01/01/2022 12:42:07 AM</td>\n",
       "      <td>1.0</td>\n",
       "      <td>2.10</td>\n",
       "      <td>1.0</td>\n",
       "      <td>N</td>\n",
       "      <td>236</td>\n",
       "      <td>42</td>\n",
       "      <td>1</td>\n",
       "      <td>8.0</td>\n",
       "      <td>0.5</td>\n",
       "      <td>0.5</td>\n",
       "      <td>4.00</td>\n",
       "      <td>0.0</td>\n",
       "      <td>0.3</td>\n",
       "      <td>13.30</td>\n",
       "      <td>0.0</td>\n",
       "      <td>0.0</td>\n",
       "    </tr>\n",
       "    <tr>\n",
       "      <th>2</th>\n",
       "      <td>2</td>\n",
       "      <td>01/01/2022 12:53:21 AM</td>\n",
       "      <td>01/01/2022 01:02:19 AM</td>\n",
       "      <td>1.0</td>\n",
       "      <td>0.97</td>\n",
       "      <td>1.0</td>\n",
       "      <td>N</td>\n",
       "      <td>166</td>\n",
       "      <td>166</td>\n",
       "      <td>1</td>\n",
       "      <td>7.5</td>\n",
       "      <td>0.5</td>\n",
       "      <td>0.5</td>\n",
       "      <td>1.76</td>\n",
       "      <td>0.0</td>\n",
       "      <td>0.3</td>\n",
       "      <td>10.56</td>\n",
       "      <td>0.0</td>\n",
       "      <td>0.0</td>\n",
       "    </tr>\n",
       "    <tr>\n",
       "      <th>3</th>\n",
       "      <td>2</td>\n",
       "      <td>01/01/2022 12:25:21 AM</td>\n",
       "      <td>01/01/2022 12:35:23 AM</td>\n",
       "      <td>1.0</td>\n",
       "      <td>1.09</td>\n",
       "      <td>1.0</td>\n",
       "      <td>N</td>\n",
       "      <td>114</td>\n",
       "      <td>68</td>\n",
       "      <td>2</td>\n",
       "      <td>8.0</td>\n",
       "      <td>0.5</td>\n",
       "      <td>0.5</td>\n",
       "      <td>0.00</td>\n",
       "      <td>0.0</td>\n",
       "      <td>0.3</td>\n",
       "      <td>11.80</td>\n",
       "      <td>2.5</td>\n",
       "      <td>0.0</td>\n",
       "    </tr>\n",
       "    <tr>\n",
       "      <th>4</th>\n",
       "      <td>2</td>\n",
       "      <td>01/01/2022 12:36:48 AM</td>\n",
       "      <td>01/01/2022 01:14:20 AM</td>\n",
       "      <td>1.0</td>\n",
       "      <td>4.30</td>\n",
       "      <td>1.0</td>\n",
       "      <td>N</td>\n",
       "      <td>68</td>\n",
       "      <td>163</td>\n",
       "      <td>1</td>\n",
       "      <td>23.5</td>\n",
       "      <td>0.5</td>\n",
       "      <td>0.5</td>\n",
       "      <td>3.00</td>\n",
       "      <td>0.0</td>\n",
       "      <td>0.3</td>\n",
       "      <td>30.30</td>\n",
       "      <td>2.5</td>\n",
       "      <td>0.0</td>\n",
       "    </tr>\n",
       "  </tbody>\n",
       "</table>\n",
       "</div>"
      ],
      "text/plain": [
       "   VendorID    tpep_pickup_datetime   tpep_dropoff_datetime  passenger_count  \\\n",
       "0         1  01/01/2022 12:35:40 AM  01/01/2022 12:53:29 AM              2.0   \n",
       "1         1  01/01/2022 12:33:43 AM  01/01/2022 12:42:07 AM              1.0   \n",
       "2         2  01/01/2022 12:53:21 AM  01/01/2022 01:02:19 AM              1.0   \n",
       "3         2  01/01/2022 12:25:21 AM  01/01/2022 12:35:23 AM              1.0   \n",
       "4         2  01/01/2022 12:36:48 AM  01/01/2022 01:14:20 AM              1.0   \n",
       "\n",
       "   trip_distance  RatecodeID store_and_fwd_flag  PULocationID  DOLocationID  \\\n",
       "0           3.80         1.0                  N           142           236   \n",
       "1           2.10         1.0                  N           236            42   \n",
       "2           0.97         1.0                  N           166           166   \n",
       "3           1.09         1.0                  N           114            68   \n",
       "4           4.30         1.0                  N            68           163   \n",
       "\n",
       "   payment_type  fare_amount  extra  mta_tax  tip_amount  tolls_amount  \\\n",
       "0             1         14.5    3.0      0.5        3.65           0.0   \n",
       "1             1          8.0    0.5      0.5        4.00           0.0   \n",
       "2             1          7.5    0.5      0.5        1.76           0.0   \n",
       "3             2          8.0    0.5      0.5        0.00           0.0   \n",
       "4             1         23.5    0.5      0.5        3.00           0.0   \n",
       "\n",
       "   improvement_surcharge  total_amount  congestion_surcharge  airport_fee  \n",
       "0                    0.3         21.95                   2.5          0.0  \n",
       "1                    0.3         13.30                   0.0          0.0  \n",
       "2                    0.3         10.56                   0.0          0.0  \n",
       "3                    0.3         11.80                   2.5          0.0  \n",
       "4                    0.3         30.30                   2.5          0.0  "
      ]
     },
     "execution_count": 1,
     "metadata": {},
     "output_type": "execute_result"
    }
   ],
   "source": [
    "import pandas as pd\n",
    "import numpy as np\n",
    "\n",
    "taxi_data = pd.read_csv('../../data/nytaxi2022.csv', header=0)\n",
    "\n",
    "taxi_data.head()"
   ]
  },
  {
   "cell_type": "markdown",
   "id": "044c6711",
   "metadata": {},
   "source": [
    "Below we gather the descriptive statistics for the attributes of the dataset to get a high level understanding of the distribution of the values of each attribute."
   ]
  },
  {
   "cell_type": "code",
   "execution_count": 2,
   "id": "dc352be4",
   "metadata": {},
   "outputs": [
    {
     "data": {
      "text/plain": [
       "Index(['tpep_pickup_datetime', 'tpep_dropoff_datetime', 'passenger_count',\n",
       "       'trip_distance', 'RatecodeID', 'PULocationID', 'DOLocationID',\n",
       "       'payment_type', 'extra', 'total_amount'],\n",
       "      dtype='object')"
      ]
     },
     "execution_count": 2,
     "metadata": {},
     "output_type": "execute_result"
    }
   ],
   "source": [
    "# Restricting the dataset to the feature columns mentioned in the problem statement\n",
    "taxi_data = taxi_data[['tpep_pickup_datetime', 'tpep_dropoff_datetime', 'passenger_count', 'trip_distance', 'RatecodeID', 'PULocationID','DOLocationID','payment_type','extra','total_amount']]\n",
    "taxi_data.columns"
   ]
  },
  {
   "cell_type": "code",
   "execution_count": 3,
   "id": "5fab015d",
   "metadata": {},
   "outputs": [
    {
     "data": {
      "text/html": [
       "<div>\n",
       "<style scoped>\n",
       "    .dataframe tbody tr th:only-of-type {\n",
       "        vertical-align: middle;\n",
       "    }\n",
       "\n",
       "    .dataframe tbody tr th {\n",
       "        vertical-align: top;\n",
       "    }\n",
       "\n",
       "    .dataframe thead th {\n",
       "        text-align: right;\n",
       "    }\n",
       "</style>\n",
       "<table border=\"1\" class=\"dataframe\">\n",
       "  <thead>\n",
       "    <tr style=\"text-align: right;\">\n",
       "      <th></th>\n",
       "      <th>passenger_count</th>\n",
       "      <th>trip_distance</th>\n",
       "      <th>RatecodeID</th>\n",
       "      <th>PULocationID</th>\n",
       "      <th>DOLocationID</th>\n",
       "      <th>payment_type</th>\n",
       "      <th>extra</th>\n",
       "      <th>total_amount</th>\n",
       "    </tr>\n",
       "  </thead>\n",
       "  <tbody>\n",
       "    <tr>\n",
       "      <th>count</th>\n",
       "      <td>3.828780e+07</td>\n",
       "      <td>3.965610e+07</td>\n",
       "      <td>3.828780e+07</td>\n",
       "      <td>3.965610e+07</td>\n",
       "      <td>3.965610e+07</td>\n",
       "      <td>3.965610e+07</td>\n",
       "      <td>3.965610e+07</td>\n",
       "      <td>3.965610e+07</td>\n",
       "    </tr>\n",
       "    <tr>\n",
       "      <th>mean</th>\n",
       "      <td>1.401149e+00</td>\n",
       "      <td>5.959399e+00</td>\n",
       "      <td>1.424172e+00</td>\n",
       "      <td>1.648660e+02</td>\n",
       "      <td>1.625752e+02</td>\n",
       "      <td>1.189550e+00</td>\n",
       "      <td>1.007532e+00</td>\n",
       "      <td>2.167127e+01</td>\n",
       "    </tr>\n",
       "    <tr>\n",
       "      <th>std</th>\n",
       "      <td>9.628938e-01</td>\n",
       "      <td>5.991907e+02</td>\n",
       "      <td>5.794343e+00</td>\n",
       "      <td>6.531082e+01</td>\n",
       "      <td>7.023146e+01</td>\n",
       "      <td>5.190411e-01</td>\n",
       "      <td>1.262564e+00</td>\n",
       "      <td>9.637360e+01</td>\n",
       "    </tr>\n",
       "    <tr>\n",
       "      <th>min</th>\n",
       "      <td>0.000000e+00</td>\n",
       "      <td>0.000000e+00</td>\n",
       "      <td>1.000000e+00</td>\n",
       "      <td>1.000000e+00</td>\n",
       "      <td>1.000000e+00</td>\n",
       "      <td>0.000000e+00</td>\n",
       "      <td>-2.218000e+01</td>\n",
       "      <td>-2.567800e+03</td>\n",
       "    </tr>\n",
       "    <tr>\n",
       "      <th>25%</th>\n",
       "      <td>1.000000e+00</td>\n",
       "      <td>1.100000e+00</td>\n",
       "      <td>1.000000e+00</td>\n",
       "      <td>1.320000e+02</td>\n",
       "      <td>1.130000e+02</td>\n",
       "      <td>1.000000e+00</td>\n",
       "      <td>0.000000e+00</td>\n",
       "      <td>1.230000e+01</td>\n",
       "    </tr>\n",
       "    <tr>\n",
       "      <th>50%</th>\n",
       "      <td>1.000000e+00</td>\n",
       "      <td>1.900000e+00</td>\n",
       "      <td>1.000000e+00</td>\n",
       "      <td>1.620000e+02</td>\n",
       "      <td>1.620000e+02</td>\n",
       "      <td>1.000000e+00</td>\n",
       "      <td>5.000000e-01</td>\n",
       "      <td>1.596000e+01</td>\n",
       "    </tr>\n",
       "    <tr>\n",
       "      <th>75%</th>\n",
       "      <td>1.000000e+00</td>\n",
       "      <td>3.560000e+00</td>\n",
       "      <td>1.000000e+00</td>\n",
       "      <td>2.340000e+02</td>\n",
       "      <td>2.340000e+02</td>\n",
       "      <td>1.000000e+00</td>\n",
       "      <td>2.500000e+00</td>\n",
       "      <td>2.316000e+01</td>\n",
       "    </tr>\n",
       "    <tr>\n",
       "      <th>max</th>\n",
       "      <td>9.000000e+00</td>\n",
       "      <td>3.896785e+05</td>\n",
       "      <td>9.900000e+01</td>\n",
       "      <td>2.650000e+02</td>\n",
       "      <td>2.650000e+02</td>\n",
       "      <td>5.000000e+00</td>\n",
       "      <td>3.350000e+01</td>\n",
       "      <td>4.010956e+05</td>\n",
       "    </tr>\n",
       "  </tbody>\n",
       "</table>\n",
       "</div>"
      ],
      "text/plain": [
       "       passenger_count  trip_distance    RatecodeID  PULocationID  \\\n",
       "count     3.828780e+07   3.965610e+07  3.828780e+07  3.965610e+07   \n",
       "mean      1.401149e+00   5.959399e+00  1.424172e+00  1.648660e+02   \n",
       "std       9.628938e-01   5.991907e+02  5.794343e+00  6.531082e+01   \n",
       "min       0.000000e+00   0.000000e+00  1.000000e+00  1.000000e+00   \n",
       "25%       1.000000e+00   1.100000e+00  1.000000e+00  1.320000e+02   \n",
       "50%       1.000000e+00   1.900000e+00  1.000000e+00  1.620000e+02   \n",
       "75%       1.000000e+00   3.560000e+00  1.000000e+00  2.340000e+02   \n",
       "max       9.000000e+00   3.896785e+05  9.900000e+01  2.650000e+02   \n",
       "\n",
       "       DOLocationID  payment_type         extra  total_amount  \n",
       "count  3.965610e+07  3.965610e+07  3.965610e+07  3.965610e+07  \n",
       "mean   1.625752e+02  1.189550e+00  1.007532e+00  2.167127e+01  \n",
       "std    7.023146e+01  5.190411e-01  1.262564e+00  9.637360e+01  \n",
       "min    1.000000e+00  0.000000e+00 -2.218000e+01 -2.567800e+03  \n",
       "25%    1.130000e+02  1.000000e+00  0.000000e+00  1.230000e+01  \n",
       "50%    1.620000e+02  1.000000e+00  5.000000e-01  1.596000e+01  \n",
       "75%    2.340000e+02  1.000000e+00  2.500000e+00  2.316000e+01  \n",
       "max    2.650000e+02  5.000000e+00  3.350000e+01  4.010956e+05  "
      ]
     },
     "execution_count": 3,
     "metadata": {},
     "output_type": "execute_result"
    }
   ],
   "source": [
    "taxi_data.describe()"
   ]
  },
  {
   "cell_type": "code",
   "execution_count": 4,
   "id": "237559bd",
   "metadata": {},
   "outputs": [
    {
     "data": {
      "text/plain": [
       "39656098"
      ]
     },
     "execution_count": 4,
     "metadata": {},
     "output_type": "execute_result"
    }
   ],
   "source": [
    "len(taxi_data)"
   ]
  },
  {
   "cell_type": "markdown",
   "id": "3f4be737",
   "metadata": {},
   "source": [
    "With the code below, we're looking for the percentage of missing data across different columns to determine if we need to drop the corresponding rows or impute the data"
   ]
  },
  {
   "cell_type": "code",
   "execution_count": 5,
   "id": "d542f217",
   "metadata": {},
   "outputs": [
    {
     "data": {
      "text/plain": [
       "tpep_pickup_datetime     0.000000\n",
       "tpep_dropoff_datetime    0.000000\n",
       "passenger_count          3.450423\n",
       "trip_distance            0.000000\n",
       "RatecodeID               3.450423\n",
       "PULocationID             0.000000\n",
       "DOLocationID             0.000000\n",
       "payment_type             0.000000\n",
       "extra                    0.000000\n",
       "total_amount             0.000000\n",
       "dtype: float64"
      ]
     },
     "execution_count": 5,
     "metadata": {},
     "output_type": "execute_result"
    }
   ],
   "source": [
    "taxi_data.isna().sum() * 100 / len(taxi_data)"
   ]
  },
  {
   "cell_type": "markdown",
   "id": "1446ed3a",
   "metadata": {},
   "source": [
    "Converting all the pickup and dropoff timestamps to the datetime format if they're not so already, extracting the date, month, year, day of week, hour, minute, second features out as cyclical trends for taxi rides may be more useful"
   ]
  },
  {
   "cell_type": "code",
   "execution_count": 6,
   "id": "c0881850",
   "metadata": {},
   "outputs": [
    {
     "name": "stderr",
     "output_type": "stream",
     "text": [
      "/var/folders/yk/c0cfqj715njfdnphhzw8m5p00000gn/T/ipykernel_31204/4120496928.py:13: UserWarning: Could not infer format, so each element will be parsed individually, falling back to `dateutil`. To ensure parsing is consistent and as-expected, please specify a format.\n",
      "  taxi_data['tpep_pickup_datetime'] = pd.to_datetime(taxi_data['tpep_pickup_datetime'])\n",
      "/var/folders/yk/c0cfqj715njfdnphhzw8m5p00000gn/T/ipykernel_31204/4120496928.py:14: UserWarning: Could not infer format, so each element will be parsed individually, falling back to `dateutil`. To ensure parsing is consistent and as-expected, please specify a format.\n",
      "  taxi_data['tpep_dropoff_datetime'] = pd.to_datetime(taxi_data['tpep_dropoff_datetime'])\n"
     ]
    },
    {
     "data": {
      "text/html": [
       "<div>\n",
       "<style scoped>\n",
       "    .dataframe tbody tr th:only-of-type {\n",
       "        vertical-align: middle;\n",
       "    }\n",
       "\n",
       "    .dataframe tbody tr th {\n",
       "        vertical-align: top;\n",
       "    }\n",
       "\n",
       "    .dataframe thead th {\n",
       "        text-align: right;\n",
       "    }\n",
       "</style>\n",
       "<table border=\"1\" class=\"dataframe\">\n",
       "  <thead>\n",
       "    <tr style=\"text-align: right;\">\n",
       "      <th></th>\n",
       "      <th>tpep_pickup_datetime</th>\n",
       "      <th>tpep_dropoff_datetime</th>\n",
       "      <th>passenger_count</th>\n",
       "      <th>trip_distance</th>\n",
       "      <th>RatecodeID</th>\n",
       "      <th>PULocationID</th>\n",
       "      <th>DOLocationID</th>\n",
       "      <th>payment_type</th>\n",
       "      <th>extra</th>\n",
       "      <th>total_amount</th>\n",
       "      <th>...</th>\n",
       "      <th>tpep_pickup_datetime_hour</th>\n",
       "      <th>tpep_pickup_datetime_minute</th>\n",
       "      <th>tpep_pickup_datetime_second</th>\n",
       "      <th>tpep_dropoff_datetime_date</th>\n",
       "      <th>tpep_dropoff_datetime_month</th>\n",
       "      <th>tpep_dropoff_datetime_year</th>\n",
       "      <th>tpep_dropoff_datetime_dayofweek</th>\n",
       "      <th>tpep_dropoff_datetime_hour</th>\n",
       "      <th>tpep_dropoff_datetime_minute</th>\n",
       "      <th>tpep_dropoff_datetime_second</th>\n",
       "    </tr>\n",
       "  </thead>\n",
       "  <tbody>\n",
       "    <tr>\n",
       "      <th>0</th>\n",
       "      <td>2022-01-01 00:35:40</td>\n",
       "      <td>2022-01-01 00:53:29</td>\n",
       "      <td>2.0</td>\n",
       "      <td>3.80</td>\n",
       "      <td>1.0</td>\n",
       "      <td>142</td>\n",
       "      <td>236</td>\n",
       "      <td>1</td>\n",
       "      <td>3.0</td>\n",
       "      <td>21.95</td>\n",
       "      <td>...</td>\n",
       "      <td>0</td>\n",
       "      <td>35</td>\n",
       "      <td>40</td>\n",
       "      <td>1</td>\n",
       "      <td>1</td>\n",
       "      <td>2022</td>\n",
       "      <td>5</td>\n",
       "      <td>0</td>\n",
       "      <td>53</td>\n",
       "      <td>29</td>\n",
       "    </tr>\n",
       "    <tr>\n",
       "      <th>1</th>\n",
       "      <td>2022-01-01 00:33:43</td>\n",
       "      <td>2022-01-01 00:42:07</td>\n",
       "      <td>1.0</td>\n",
       "      <td>2.10</td>\n",
       "      <td>1.0</td>\n",
       "      <td>236</td>\n",
       "      <td>42</td>\n",
       "      <td>1</td>\n",
       "      <td>0.5</td>\n",
       "      <td>13.30</td>\n",
       "      <td>...</td>\n",
       "      <td>0</td>\n",
       "      <td>33</td>\n",
       "      <td>43</td>\n",
       "      <td>1</td>\n",
       "      <td>1</td>\n",
       "      <td>2022</td>\n",
       "      <td>5</td>\n",
       "      <td>0</td>\n",
       "      <td>42</td>\n",
       "      <td>7</td>\n",
       "    </tr>\n",
       "    <tr>\n",
       "      <th>2</th>\n",
       "      <td>2022-01-01 00:53:21</td>\n",
       "      <td>2022-01-01 01:02:19</td>\n",
       "      <td>1.0</td>\n",
       "      <td>0.97</td>\n",
       "      <td>1.0</td>\n",
       "      <td>166</td>\n",
       "      <td>166</td>\n",
       "      <td>1</td>\n",
       "      <td>0.5</td>\n",
       "      <td>10.56</td>\n",
       "      <td>...</td>\n",
       "      <td>0</td>\n",
       "      <td>53</td>\n",
       "      <td>21</td>\n",
       "      <td>1</td>\n",
       "      <td>1</td>\n",
       "      <td>2022</td>\n",
       "      <td>5</td>\n",
       "      <td>1</td>\n",
       "      <td>2</td>\n",
       "      <td>19</td>\n",
       "    </tr>\n",
       "    <tr>\n",
       "      <th>3</th>\n",
       "      <td>2022-01-01 00:25:21</td>\n",
       "      <td>2022-01-01 00:35:23</td>\n",
       "      <td>1.0</td>\n",
       "      <td>1.09</td>\n",
       "      <td>1.0</td>\n",
       "      <td>114</td>\n",
       "      <td>68</td>\n",
       "      <td>2</td>\n",
       "      <td>0.5</td>\n",
       "      <td>11.80</td>\n",
       "      <td>...</td>\n",
       "      <td>0</td>\n",
       "      <td>25</td>\n",
       "      <td>21</td>\n",
       "      <td>1</td>\n",
       "      <td>1</td>\n",
       "      <td>2022</td>\n",
       "      <td>5</td>\n",
       "      <td>0</td>\n",
       "      <td>35</td>\n",
       "      <td>23</td>\n",
       "    </tr>\n",
       "    <tr>\n",
       "      <th>4</th>\n",
       "      <td>2022-01-01 00:36:48</td>\n",
       "      <td>2022-01-01 01:14:20</td>\n",
       "      <td>1.0</td>\n",
       "      <td>4.30</td>\n",
       "      <td>1.0</td>\n",
       "      <td>68</td>\n",
       "      <td>163</td>\n",
       "      <td>1</td>\n",
       "      <td>0.5</td>\n",
       "      <td>30.30</td>\n",
       "      <td>...</td>\n",
       "      <td>0</td>\n",
       "      <td>36</td>\n",
       "      <td>48</td>\n",
       "      <td>1</td>\n",
       "      <td>1</td>\n",
       "      <td>2022</td>\n",
       "      <td>5</td>\n",
       "      <td>1</td>\n",
       "      <td>14</td>\n",
       "      <td>20</td>\n",
       "    </tr>\n",
       "  </tbody>\n",
       "</table>\n",
       "<p>5 rows × 24 columns</p>\n",
       "</div>"
      ],
      "text/plain": [
       "  tpep_pickup_datetime tpep_dropoff_datetime  passenger_count  trip_distance  \\\n",
       "0  2022-01-01 00:35:40   2022-01-01 00:53:29              2.0           3.80   \n",
       "1  2022-01-01 00:33:43   2022-01-01 00:42:07              1.0           2.10   \n",
       "2  2022-01-01 00:53:21   2022-01-01 01:02:19              1.0           0.97   \n",
       "3  2022-01-01 00:25:21   2022-01-01 00:35:23              1.0           1.09   \n",
       "4  2022-01-01 00:36:48   2022-01-01 01:14:20              1.0           4.30   \n",
       "\n",
       "   RatecodeID  PULocationID  DOLocationID  payment_type  extra  total_amount  \\\n",
       "0         1.0           142           236             1    3.0         21.95   \n",
       "1         1.0           236            42             1    0.5         13.30   \n",
       "2         1.0           166           166             1    0.5         10.56   \n",
       "3         1.0           114            68             2    0.5         11.80   \n",
       "4         1.0            68           163             1    0.5         30.30   \n",
       "\n",
       "   ...  tpep_pickup_datetime_hour  tpep_pickup_datetime_minute  \\\n",
       "0  ...                          0                           35   \n",
       "1  ...                          0                           33   \n",
       "2  ...                          0                           53   \n",
       "3  ...                          0                           25   \n",
       "4  ...                          0                           36   \n",
       "\n",
       "   tpep_pickup_datetime_second  tpep_dropoff_datetime_date  \\\n",
       "0                           40                           1   \n",
       "1                           43                           1   \n",
       "2                           21                           1   \n",
       "3                           21                           1   \n",
       "4                           48                           1   \n",
       "\n",
       "   tpep_dropoff_datetime_month  tpep_dropoff_datetime_year  \\\n",
       "0                            1                        2022   \n",
       "1                            1                        2022   \n",
       "2                            1                        2022   \n",
       "3                            1                        2022   \n",
       "4                            1                        2022   \n",
       "\n",
       "   tpep_dropoff_datetime_dayofweek  tpep_dropoff_datetime_hour  \\\n",
       "0                                5                           0   \n",
       "1                                5                           0   \n",
       "2                                5                           1   \n",
       "3                                5                           0   \n",
       "4                                5                           1   \n",
       "\n",
       "   tpep_dropoff_datetime_minute  tpep_dropoff_datetime_second  \n",
       "0                            53                            29  \n",
       "1                            42                             7  \n",
       "2                             2                            19  \n",
       "3                            35                            23  \n",
       "4                            14                            20  \n",
       "\n",
       "[5 rows x 24 columns]"
      ]
     },
     "execution_count": 6,
     "metadata": {},
     "output_type": "execute_result"
    }
   ],
   "source": [
    "# Get date, month, year, day of the week, hour, minute, second for pickup and dropoff datetime\n",
    "# Make a method to do this and then apply it to both pickup and dropoff datetime\n",
    "def get_datetime_features(df, col_name):\n",
    "    df[col_name + '_date'] = df[col_name].dt.day\n",
    "    df[col_name + '_month'] = df[col_name].dt.month\n",
    "    df[col_name + '_year'] = df[col_name].dt.year\n",
    "    df[col_name + '_dayofweek'] = df[col_name].dt.dayofweek\n",
    "    df[col_name + '_hour'] = df[col_name].dt.hour\n",
    "    df[col_name + '_minute'] = df[col_name].dt.minute\n",
    "    df[col_name + '_second'] = df[col_name].dt.second\n",
    "    return df\n",
    "\n",
    "taxi_data['tpep_pickup_datetime'] = pd.to_datetime(taxi_data['tpep_pickup_datetime'])\n",
    "taxi_data['tpep_dropoff_datetime'] = pd.to_datetime(taxi_data['tpep_dropoff_datetime'])\n",
    "\n",
    "taxi_data = get_datetime_features(taxi_data, 'tpep_pickup_datetime')\n",
    "taxi_data = get_datetime_features(taxi_data, 'tpep_dropoff_datetime')\n",
    "\n",
    "#taxi_data.drop(columns=['tpep_pickup_datetime', 'tpep_dropoff_datetime'], inplace=True)\n",
    "taxi_data.head()"
   ]
  },
  {
   "cell_type": "markdown",
   "id": "fa170fd2",
   "metadata": {},
   "source": [
    "Excluding NA data as it only comprises of about 3.45% of the dataset, imputation is not necessary here. Also, per the descriptive statistics above, the min values of extra and total_amount are negative values which doesn't make sense as a passenger ought to pay the taxi fare instead of being paid to ride it."
   ]
  },
  {
   "cell_type": "code",
   "execution_count": 7,
   "id": "b8749faa",
   "metadata": {},
   "outputs": [
    {
     "data": {
      "text/plain": [
       "tpep_pickup_datetime               0.0\n",
       "tpep_dropoff_datetime              0.0\n",
       "passenger_count                    0.0\n",
       "trip_distance                      0.0\n",
       "RatecodeID                         0.0\n",
       "PULocationID                       0.0\n",
       "DOLocationID                       0.0\n",
       "payment_type                       0.0\n",
       "extra                              0.0\n",
       "total_amount                       0.0\n",
       "tpep_pickup_datetime_date          0.0\n",
       "tpep_pickup_datetime_month         0.0\n",
       "tpep_pickup_datetime_year          0.0\n",
       "tpep_pickup_datetime_dayofweek     0.0\n",
       "tpep_pickup_datetime_hour          0.0\n",
       "tpep_pickup_datetime_minute        0.0\n",
       "tpep_pickup_datetime_second        0.0\n",
       "tpep_dropoff_datetime_date         0.0\n",
       "tpep_dropoff_datetime_month        0.0\n",
       "tpep_dropoff_datetime_year         0.0\n",
       "tpep_dropoff_datetime_dayofweek    0.0\n",
       "tpep_dropoff_datetime_hour         0.0\n",
       "tpep_dropoff_datetime_minute       0.0\n",
       "tpep_dropoff_datetime_second       0.0\n",
       "dtype: float64"
      ]
     },
     "execution_count": 7,
     "metadata": {},
     "output_type": "execute_result"
    }
   ],
   "source": [
    "taxi_data = taxi_data.dropna()\n",
    "taxi_data = taxi_data[taxi_data['extra'] >= 0]\n",
    "taxi_data = taxi_data[taxi_data['total_amount'] > 0]\n",
    "taxi_data = taxi_data[taxi_data['tpep_dropoff_datetime'] > taxi_data['tpep_pickup_datetime']]\n",
    "taxi_data.isna().sum() * 100 / len(taxi_data)"
   ]
  },
  {
   "cell_type": "markdown",
   "id": "c7b498f4",
   "metadata": {},
   "source": [
    "Checking the length of the dataframe before writing the cleaned data to a new file"
   ]
  },
  {
   "cell_type": "code",
   "execution_count": 8,
   "id": "06dccd56",
   "metadata": {},
   "outputs": [
    {
     "data": {
      "text/plain": [
       "38009485"
      ]
     },
     "execution_count": 8,
     "metadata": {},
     "output_type": "execute_result"
    }
   ],
   "source": [
    "len(taxi_data)"
   ]
  },
  {
   "cell_type": "code",
   "execution_count": 9,
   "id": "679b1a1c",
   "metadata": {},
   "outputs": [
    {
     "data": {
      "text/plain": [
       "tpep_pickup_datetime               datetime64[ns]\n",
       "tpep_dropoff_datetime              datetime64[ns]\n",
       "passenger_count                           float64\n",
       "trip_distance                             float64\n",
       "RatecodeID                                float64\n",
       "PULocationID                                int64\n",
       "DOLocationID                                int64\n",
       "payment_type                                int64\n",
       "extra                                     float64\n",
       "total_amount                              float64\n",
       "tpep_pickup_datetime_date                   int32\n",
       "tpep_pickup_datetime_month                  int32\n",
       "tpep_pickup_datetime_year                   int32\n",
       "tpep_pickup_datetime_dayofweek              int32\n",
       "tpep_pickup_datetime_hour                   int32\n",
       "tpep_pickup_datetime_minute                 int32\n",
       "tpep_pickup_datetime_second                 int32\n",
       "tpep_dropoff_datetime_date                  int32\n",
       "tpep_dropoff_datetime_month                 int32\n",
       "tpep_dropoff_datetime_year                  int32\n",
       "tpep_dropoff_datetime_dayofweek             int32\n",
       "tpep_dropoff_datetime_hour                  int32\n",
       "tpep_dropoff_datetime_minute                int32\n",
       "tpep_dropoff_datetime_second                int32\n",
       "dtype: object"
      ]
     },
     "execution_count": 9,
     "metadata": {},
     "output_type": "execute_result"
    }
   ],
   "source": [
    "taxi_data.dtypes"
   ]
  },
  {
   "cell_type": "code",
   "execution_count": 10,
   "id": "1d5aedf0",
   "metadata": {},
   "outputs": [
    {
     "data": {
      "text/plain": [
       "array([ 1.,  2.,  5.,  3.,  4., 99.,  6.])"
      ]
     },
     "execution_count": 10,
     "metadata": {},
     "output_type": "execute_result"
    }
   ],
   "source": [
    "taxi_data['RatecodeID'].unique()"
   ]
  },
  {
   "cell_type": "code",
   "execution_count": 11,
   "id": "6f688f98",
   "metadata": {},
   "outputs": [
    {
     "data": {
      "text/plain": [
       "(262,)"
      ]
     },
     "execution_count": 11,
     "metadata": {},
     "output_type": "execute_result"
    }
   ],
   "source": [
    "taxi_data['PULocationID'].unique().shape"
   ]
  },
  {
   "cell_type": "code",
   "execution_count": 12,
   "id": "15a60ba6",
   "metadata": {},
   "outputs": [
    {
     "data": {
      "text/plain": [
       "(262,)"
      ]
     },
     "execution_count": 12,
     "metadata": {},
     "output_type": "execute_result"
    }
   ],
   "source": [
    "taxi_data['DOLocationID'].unique().shape"
   ]
  },
  {
   "cell_type": "code",
   "execution_count": 13,
   "id": "c79c5b88",
   "metadata": {},
   "outputs": [
    {
     "data": {
      "text/plain": [
       "(5,)"
      ]
     },
     "execution_count": 13,
     "metadata": {},
     "output_type": "execute_result"
    }
   ],
   "source": [
    "taxi_data['payment_type'].unique().shape"
   ]
  },
  {
   "cell_type": "code",
   "execution_count": 14,
   "id": "77497646",
   "metadata": {},
   "outputs": [
    {
     "ename": "NameError",
     "evalue": "name 'df' is not defined",
     "output_type": "error",
     "traceback": [
      "\u001b[31m---------------------------------------------------------------------------\u001b[39m",
      "\u001b[31mNameError\u001b[39m                                 Traceback (most recent call last)",
      "\u001b[36mCell\u001b[39m\u001b[36m \u001b[39m\u001b[32mIn[14]\u001b[39m\u001b[32m, line 2\u001b[39m\n\u001b[32m      1\u001b[39m \u001b[38;5;66;03m# calculating trip duration in minutes\u001b[39;00m\n\u001b[32m----> \u001b[39m\u001b[32m2\u001b[39m taxi_data[\u001b[33m'\u001b[39m\u001b[33mtrip_duration\u001b[39m\u001b[33m'\u001b[39m] = (\u001b[43mdf\u001b[49m[\u001b[33m\"\u001b[39m\u001b[33mtpep_dropoff_datetime\u001b[39m\u001b[33m\"\u001b[39m] - df[\u001b[33m\"\u001b[39m\u001b[33mtpep_pickup_datetime\u001b[39m\u001b[33m\"\u001b[39m]).dt.total_seconds() / \u001b[32m60\u001b[39m\n\u001b[32m      3\u001b[39m \u001b[38;5;28mlen\u001b[39m(taxi_data[taxi_data[\u001b[33m'\u001b[39m\u001b[33mtrip_duration\u001b[39m\u001b[33m'\u001b[39m]<=\u001b[32m0\u001b[39m | taxi_data[\u001b[33m'\u001b[39m\u001b[33mtrip_duration\u001b[39m\u001b[33m'\u001b[39m]>\u001b[32m180\u001b[39m])\n",
      "\u001b[31mNameError\u001b[39m: name 'df' is not defined"
     ]
    }
   ],
   "source": [
    "# calculating trip duration in minutes\n",
    "taxi_data['trip_duration'] = (taxi_data[\"tpep_dropoff_datetime\"] - taxi_data[\"tpep_pickup_datetime\"]).dt.total_seconds() / 60\n",
    "len(taxi_data[taxi_data['trip_duration']<=0 | taxi_data['trip_duration']>180])"
   ]
  },
  {
   "cell_type": "code",
   "execution_count": null,
   "id": "955163d5",
   "metadata": {},
   "outputs": [],
   "source": [
    "# capping the trip duration at 180 minutes/3 hours\n",
    "taxi_data = taxi_data[taxi_data['trip_duration']>0 | taxi_data['trip_duration']<=180]"
   ]
  },
  {
   "cell_type": "code",
   "execution_count": null,
   "id": "bfbd38e3",
   "metadata": {},
   "outputs": [],
   "source": [
    "len(train_data)"
   ]
  },
  {
   "cell_type": "code",
   "execution_count": 2,
   "id": "f8094f85",
   "metadata": {},
   "outputs": [],
   "source": [
    "import pandas as pd"
   ]
  },
  {
   "cell_type": "code",
   "execution_count": 3,
   "id": "048d6ae4",
   "metadata": {},
   "outputs": [],
   "source": [
    "df = pd.read_csv(\"../../data/processed/nytaxi2022_preprocessed_final.csv\", header=0)"
   ]
  },
  {
   "cell_type": "code",
   "execution_count": 4,
   "id": "d0792572",
   "metadata": {},
   "outputs": [
    {
     "data": {
      "text/plain": [
       "count    3.796028e+07\n",
       "mean     2.168057e+01\n",
       "std      9.833151e+01\n",
       "min      1.000000e-02\n",
       "25%      1.230000e+01\n",
       "50%      1.596000e+01\n",
       "75%      2.280000e+01\n",
       "max      4.010956e+05\n",
       "Name: total_amount, dtype: float64"
      ]
     },
     "execution_count": 4,
     "metadata": {},
     "output_type": "execute_result"
    }
   ],
   "source": [
    "df['total_amount'].describe()"
   ]
  },
  {
   "cell_type": "code",
   "execution_count": null,
   "id": "86e03190",
   "metadata": {},
   "outputs": [],
   "source": []
  }
 ],
 "metadata": {
  "kernelspec": {
   "display_name": "Python 3.13.6",
   "language": "python",
   "name": "py313"
  },
  "language_info": {
   "codemirror_mode": {
    "name": "ipython",
    "version": 3
   },
   "file_extension": ".py",
   "mimetype": "text/x-python",
   "name": "python",
   "nbconvert_exporter": "python",
   "pygments_lexer": "ipython3",
   "version": "3.13.7"
  }
 },
 "nbformat": 4,
 "nbformat_minor": 5
}
